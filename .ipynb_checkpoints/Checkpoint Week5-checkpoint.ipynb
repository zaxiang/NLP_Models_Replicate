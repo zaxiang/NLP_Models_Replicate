{
 "cells": [
  {
   "cell_type": "code",
   "execution_count": 1,
   "metadata": {},
   "outputs": [],
   "source": [
    "import json\n",
    "import pandas as pd\n",
    "import pickle\n",
    "from sklearn.feature_extraction.text import TfidfVectorizer\n",
    "from collections import defaultdict\n",
    "from sklearn.metrics import f1_score\n",
    "from sklearn.metrics import accuracy_score\n",
    "import numpy\n",
    "from numpy.linalg import norm\n",
    "import matplotlib.pyplot as plt \n",
    "from matplotlib.pyplot import figure\n",
    "\n",
    "import string\n",
    "from nltk.stem.porter import *"
   ]
  },
  {
   "cell_type": "code",
   "execution_count": 75,
   "metadata": {},
   "outputs": [],
   "source": [
    "f = open(\"./ConWea/data/nyt/coarse/seedwords.json\")\n",
    "nyt_seed = json.load(f)\n",
    "\n",
    "with open(\"./ConWea/data/nyt/coarse/df.pkl\", 'rb') as f:\n",
    "    nyt_df = pickle.load(f)"
   ]
  },
  {
   "cell_type": "code",
   "execution_count": 76,
   "metadata": {},
   "outputs": [],
   "source": [
    "f = open(\"./ConWea/data/20news/coarse/seedwords.json\")\n",
    "news_seed = json.load(f)\n",
    "\n",
    "with open(\"./ConWea/data/20news/coarse/df.pkl\", 'rb') as f:\n",
    "    news_df = pickle.load(f)"
   ]
  },
  {
   "cell_type": "code",
   "execution_count": 77,
   "metadata": {},
   "outputs": [],
   "source": [
    "#fine\n",
    "f = open(\"./ConWea/data/nyt/fine/seedwords.json\")\n",
    "nyt_seed_fine = json.load(f)\n",
    "\n",
    "with open(\"./ConWea/data/nyt/fine/df.pkl\", 'rb') as f:\n",
    "    nyt_df_fine = pickle.load(f)\n",
    "    \n",
    "f = open(\"./ConWea/data/20news/fine/seedwords.json\")\n",
    "news_seed_fine = json.load(f)\n",
    "\n",
    "with open(\"./ConWea/data/20news/fine/df.pkl\", 'rb') as f:\n",
    "    news_df_fine = pickle.load(f)\n",
    "    \n",
    "X_train_news_fine = news_df_fine.sentence.tolist()\n",
    "X_train_nyt_fine = nyt_df_fine.sentence.tolist()"
   ]
  },
  {
   "cell_type": "code",
   "execution_count": 78,
   "metadata": {},
   "outputs": [],
   "source": [
    "X_train_news = news_df.sentence.tolist()\n",
    "X_train_nyt = nyt_df.sentence.tolist()"
   ]
  },
  {
   "cell_type": "markdown",
   "metadata": {},
   "source": [
    "### TF_IDF"
   ]
  },
  {
   "cell_type": "code",
   "execution_count": 7,
   "metadata": {},
   "outputs": [],
   "source": [
    "# tfidf_vectorizer = TfidfVectorizer()\n",
    "# tokenizer = tfidf_vectorizer.build_tokenizer()\n",
    "# punct = string.punctuation\n",
    "# stemmer = PorterStemmer()\n",
    "\n",
    "# t = t.lower() # lowercase string\n",
    "# t = [c for c in t if not (c in punct)] # non-punct characters\n",
    "# t = ''.join(t) # convert back to string\n",
    "# words = t.strip().split() # tokenizes\n",
    "# for w in words:\n",
    "#     #w = stemmer.stem(w)\n",
    "#     totalWords += 1\n",
    "#     wordCount[w] += 1"
   ]
  },
  {
   "cell_type": "code",
   "execution_count": 62,
   "metadata": {},
   "outputs": [],
   "source": [
    "# seed_example = list(nyt_seed.values())\n",
    "# seed_example_doc = [' '.join(i) for i in seed_example]\n",
    "# seed_example_doc\n",
    "\n",
    "# token_X(seed_example_doc)"
   ]
  },
  {
   "cell_type": "code",
   "execution_count": 42,
   "metadata": {},
   "outputs": [],
   "source": [
    "#token_news = token_X(X_train_news)"
   ]
  },
  {
   "cell_type": "code",
   "execution_count": 193,
   "metadata": {},
   "outputs": [],
   "source": [
    "def token_X(X_train):\n",
    "    \n",
    "    tfidf_vectorizer = TfidfVectorizer()\n",
    "    tokenizer = tfidf_vectorizer.build_tokenizer()\n",
    "    \n",
    "    punct = string.punctuation\n",
    "    stemmer = PorterStemmer()\n",
    "    \n",
    "    X_token = []\n",
    "    for doc in X_train:\n",
    "        doc = doc.lower()\n",
    "        doc = [i for i in doc if not (i in punct)] # non-punct characters\n",
    "        doc = ''.join(doc) # convert back to string\n",
    "        words = tokenizer(doc) # tokenizes\n",
    "        for i in range(len(words)): #stemmer\n",
    "            words[i] = stemmer.stem(words[i])\n",
    "        X_token.append(words)\n",
    "    \n",
    "    return X_token"
   ]
  },
  {
   "cell_type": "code",
   "execution_count": 194,
   "metadata": {},
   "outputs": [],
   "source": [
    "for clas in nyt_seed:\n",
    "    cla_lis = nyt_seed[clas]\n",
    "    new_lis = token_X([' '.join(cla_lis)])[0]\n",
    "    nyt_seed[clas] = new_lis\n",
    "\n",
    "for clas in news_seed:\n",
    "    cla_lis = news_seed[clas]\n",
    "    new_lis = token_X([' '.join(cla_lis)])[0]\n",
    "    news_seed[clas] = new_lis"
   ]
  },
  {
   "cell_type": "code",
   "execution_count": 195,
   "metadata": {},
   "outputs": [],
   "source": [
    "def get_idf(token):\n",
    "\n",
    "    dic_idf = defaultdict(int)\n",
    "    for doc in token:\n",
    "        unique_token = set(doc)\n",
    "        for w in unique_token:\n",
    "            dic_idf[w] += 1\n",
    "    return dic_idf\n",
    "            "
   ]
  },
  {
   "cell_type": "code",
   "execution_count": 197,
   "metadata": {},
   "outputs": [],
   "source": [
    "def get_tfidf_stat(X_train, doc, seeds, idf_dic): #the passed in doc is already tokenized\n",
    "    sum_tfidf = 0\n",
    "    \n",
    "    dic_tfidf = defaultdict(int)\n",
    "    \n",
    "    for w in doc:\n",
    "        dic_tfidf[w] += 1\n",
    "        \n",
    "    counter = 0\n",
    "    for s in seeds:\n",
    "        if s in idf_dic:\n",
    "            #print(\"yeahhh\")\n",
    "            counter += 1\n",
    "            dic_tfidf[s] = dic_tfidf[s] * numpy.log((len(X_train) / idf_dic[s]))\n",
    "        else:\n",
    "            #print(\"no way..\")\n",
    "            dic_tfidf[s] = 0\n",
    "        sum_tfidf += dic_tfidf[s] \n",
    "        \n",
    "    return sum_tfidf / counter\n",
    "    "
   ]
  },
  {
   "cell_type": "code",
   "execution_count": 198,
   "metadata": {},
   "outputs": [],
   "source": [
    "def get_class(X_train, doc, seeds_dic, idf_dic):\n",
    "    dic_scores = defaultdict(int)\n",
    "    for c in list(seeds_dic.keys()):\n",
    "        tfidf = get_tfidf_stat(X_train, doc, seeds_dic[c], idf_dic)\n",
    "        dic_scores[c] = tfidf\n",
    "    if len(set(list(dic_scores.values()))) == 1: \n",
    "        if int(list(set(list(dic_scores.values())))[0]) == 0: #having tie: all 0 case\n",
    "            return \"no_label\"\n",
    "        else: #having tie: \n",
    "            return list(dic_scores.keys())[0]\n",
    "    return max(dic_scores, key=dic_scores.get)"
   ]
  },
  {
   "cell_type": "code",
   "execution_count": 199,
   "metadata": {},
   "outputs": [],
   "source": [
    "def get_prediction(X_train, seeds_dic):\n",
    "    token = token_X(X_train) #call token func only once\n",
    "    idf_dic = get_idf(token)\n",
    "    prediction = []\n",
    "    for doc in token:\n",
    "        prediction.append(get_class(X_train, doc, seeds_dic, idf_dic))\n",
    "    return prediction"
   ]
  },
  {
   "cell_type": "code",
   "execution_count": 200,
   "metadata": {},
   "outputs": [],
   "source": [
    "def get_accuracy(df, X_train, seeds_dic):\n",
    "    prediction = get_prediction(X_train, seeds_dic)\n",
    "    \n",
    "    #print('Accuracy: ', accuracy_score(news_df.label.tolist(), news_prediction, normalize=False))\n",
    "    print('F1-score micro: ', f1_score(df.label, prediction, average='micro'))\n",
    "    print('F1-score macro: ', f1_score(df.label, prediction, average='macro'))\n",
    "    "
   ]
  },
  {
   "cell_type": "code",
   "execution_count": 201,
   "metadata": {},
   "outputs": [
    {
     "name": "stdout",
     "output_type": "stream",
     "text": [
      "F1-score micro:  0.5639802203522165\n",
      "F1-score macro:  0.4495408343041065\n"
     ]
    }
   ],
   "source": [
    "get_accuracy(nyt_df, X_train_nyt, nyt_seed)"
   ]
  },
  {
   "cell_type": "code",
   "execution_count": 202,
   "metadata": {},
   "outputs": [
    {
     "name": "stdout",
     "output_type": "stream",
     "text": [
      "F1-score micro:  0.4335396242948683\n",
      "F1-score macro:  0.4724983248391604\n"
     ]
    }
   ],
   "source": [
    "get_accuracy(news_df, X_train_news, news_seed)"
   ]
  },
  {
   "cell_type": "code",
   "execution_count": null,
   "metadata": {},
   "outputs": [],
   "source": [
    "get_accuracy(news_df_fine, X_train_news_fine, news_seed_fine)"
   ]
  },
  {
   "cell_type": "code",
   "execution_count": null,
   "metadata": {},
   "outputs": [],
   "source": [
    "get_accuracy(nyt_df_fine, X_train_nyt_fine, nyt_seed_fine)"
   ]
  },
  {
   "cell_type": "markdown",
   "metadata": {},
   "source": [
    "Challenge: using the package / the right formula of tfidf / merely dividing tf by #document with word's occurence: all have approximately the same f1 score: all four socres are below the scores in table."
   ]
  },
  {
   "cell_type": "markdown",
   "metadata": {},
   "source": [
    "Maybe it make sense to get a slightly lower score? (since they might be using more advanced parameter tunning?)"
   ]
  },
  {
   "cell_type": "markdown",
   "metadata": {},
   "source": [
    "## word2vec"
   ]
  },
  {
   "cell_type": "markdown",
   "metadata": {},
   "source": [
    "##### Word2Vec algorithm learn a vector representation for each word averages the word vectors of all the words present in a particular sentence to generate the document vector for that sentence"
   ]
  },
  {
   "cell_type": "markdown",
   "metadata": {},
   "source": [
    "adopt the word_vec to doc_vec tech from this: https://blog.eduonix.com/artificial-intelligence/converting-word-vectors-document-vectors-using-gensim-library/"
   ]
  },
  {
   "cell_type": "code",
   "execution_count": 80,
   "metadata": {},
   "outputs": [
    {
     "name": "stdout",
     "output_type": "stream",
     "text": [
      "Error processing line 1 of /Users/xiangzairan/opt/anaconda3/lib/python3.8/site-packages/google_api_core-2.0.1-py3.9-nspkg.pth:\n",
      "\n",
      "  Traceback (most recent call last):\n",
      "    File \"/Users/xiangzairan/opt/anaconda3/lib/python3.8/site.py\", line 169, in addpackage\n",
      "      exec(line)\n",
      "    File \"<string>\", line 1, in <module>\n",
      "    File \"<frozen importlib._bootstrap>\", line 553, in module_from_spec\n",
      "  AttributeError: 'NoneType' object has no attribute 'loader'\n",
      "\n",
      "Remainder of file ignored\n",
      "Error processing line 1 of /Users/xiangzairan/opt/anaconda3/lib/python3.8/site-packages/google_auth-2.2.1-py3.9-nspkg.pth:\n",
      "\n",
      "  Traceback (most recent call last):\n",
      "    File \"/Users/xiangzairan/opt/anaconda3/lib/python3.8/site.py\", line 169, in addpackage\n",
      "      exec(line)\n",
      "    File \"<string>\", line 1, in <module>\n",
      "    File \"<frozen importlib._bootstrap>\", line 553, in module_from_spec\n",
      "  AttributeError: 'NoneType' object has no attribute 'loader'\n",
      "\n",
      "Remainder of file ignored\n",
      "Error processing line 1 of /Users/xiangzairan/opt/anaconda3/lib/python3.8/site-packages/googleapis_common_protos-1.53.0-py3.9-nspkg.pth:\n",
      "\n",
      "  Traceback (most recent call last):\n",
      "    File \"/Users/xiangzairan/opt/anaconda3/lib/python3.8/site.py\", line 169, in addpackage\n",
      "      exec(line)\n",
      "    File \"<string>\", line 1, in <module>\n",
      "    File \"<frozen importlib._bootstrap>\", line 553, in module_from_spec\n",
      "  AttributeError: 'NoneType' object has no attribute 'loader'\n",
      "\n",
      "Remainder of file ignored\n",
      "Error processing line 1 of /Users/xiangzairan/opt/anaconda3/lib/python3.8/site-packages/protobuf-3.18.0-py3.8-nspkg.pth:\n",
      "\n",
      "  Traceback (most recent call last):\n",
      "    File \"/Users/xiangzairan/opt/anaconda3/lib/python3.8/site.py\", line 169, in addpackage\n",
      "      exec(line)\n",
      "    File \"<string>\", line 1, in <module>\n",
      "    File \"<frozen importlib._bootstrap>\", line 553, in module_from_spec\n",
      "  AttributeError: 'NoneType' object has no attribute 'loader'\n",
      "\n",
      "Remainder of file ignored\n",
      "Collecting gensim\n",
      "  Using cached gensim-4.2.0-cp38-cp38-macosx_10_9_x86_64.whl (24.0 MB)\n",
      "Requirement already satisfied: numpy>=1.17.0 in /Users/xiangzairan/opt/anaconda3/lib/python3.8/site-packages (from gensim) (1.23.3)\n",
      "Collecting smart-open>=1.8.1\n",
      "  Using cached smart_open-6.2.0-py3-none-any.whl (58 kB)\n",
      "Requirement already satisfied: scipy>=0.18.1 in /Users/xiangzairan/opt/anaconda3/lib/python3.8/site-packages (from gensim) (1.9.1)\n",
      "Installing collected packages: smart-open, gensim\n",
      "Successfully installed gensim-4.2.0 smart-open-6.2.0\n"
     ]
    }
   ],
   "source": [
    "!python -m pip install -U gensim"
   ]
  },
  {
   "cell_type": "code",
   "execution_count": 177,
   "metadata": {},
   "outputs": [],
   "source": [
    "#!python -m pip install -U gensim\n",
    "\n",
    "from gensim.test.utils import common_texts\n",
    "from gensim.models import Word2Vec"
   ]
  },
  {
   "cell_type": "code",
   "execution_count": 203,
   "metadata": {},
   "outputs": [],
   "source": [
    "\n",
    "def token_X(X_train):\n",
    "    \n",
    "    tfidf_vectorizer = TfidfVectorizer()\n",
    "    tokenizer = tfidf_vectorizer.build_tokenizer()\n",
    "    \n",
    "    punct = string.punctuation\n",
    "    stemmer = PorterStemmer()\n",
    "    \n",
    "    X_token = []\n",
    "    for doc in X_train:\n",
    "        doc = doc.lower()\n",
    "        doc = [i for i in doc if not (i in punct)] # non-punct characters\n",
    "        doc = ''.join(doc) # convert back to string\n",
    "        words = tokenizer(doc) # tokenizes\n",
    "        for i in range(len(words)): #stemmer\n",
    "            words[i] = stemmer.stem(words[i])\n",
    "        X_token.append(words)\n",
    "    \n",
    "    return X_token"
   ]
  },
  {
   "cell_type": "code",
   "execution_count": 204,
   "metadata": {},
   "outputs": [],
   "source": [
    "for clas in nyt_seed:\n",
    "    cla_lis = nyt_seed[clas]\n",
    "    new_lis = token_X([' '.join(cla_lis)])[0]\n",
    "    nyt_seed[clas] = new_lis\n",
    "\n",
    "for clas in news_seed:\n",
    "    cla_lis = news_seed[clas]\n",
    "    new_lis = token_X([' '.join(cla_lis)])[0]\n",
    "    news_seed[clas] = new_lis"
   ]
  },
  {
   "cell_type": "code",
   "execution_count": 205,
   "metadata": {},
   "outputs": [],
   "source": [
    "def get_token_wordDic(X_train):\n",
    "     \n",
    "    #preparing model and word dic \n",
    "\n",
    "    print(\"tokenizing...\")\n",
    "    token_list = token_X(X_train) #2D array with word in each document\n",
    "    \n",
    "    model = Word2Vec(sentences=token_list, vector_size=100, window=5, min_count=1, workers=4) #use vector size 500\n",
    "    model.save(\"word2vec.model\")\n",
    "    \n",
    "    print(\"getting the vector for each word...\")\n",
    "    #save word vector in a dictionary\n",
    "    word_dic = dict({})\n",
    "    for idx, key in enumerate(model.wv.key_to_index):\n",
    "        word_dic[key] = model.wv[key]\n",
    "        \n",
    "    return token_list, word_dic\n"
   ]
  },
  {
   "cell_type": "code",
   "execution_count": 206,
   "metadata": {},
   "outputs": [],
   "source": [
    "def get_all_document_vector(X_train, token_document, word_dic):\n",
    "    \n",
    "    #starting vectorizing for each document\n",
    "    print(\"getting the vector for each document...\")\n",
    "    DocVec = []\n",
    "    for doc in token_document: #for each document\n",
    "        doc_vec = numpy.array(100)\n",
    "        counter = 0\n",
    "        for word in doc: #for each word\n",
    "            if word in word_dic.keys():\n",
    "                counter += 1\n",
    "                doc_vec = numpy.add(doc_vec, word_dic[word]) #add word vectors\n",
    "        doc_vec = numpy.divide(doc_vec, counter) #divide by #of words in document (w/ vector)\n",
    "        DocVec.append(doc_vec)\n",
    "        \n",
    "    return DocVec #return the vector representation of the all the document in a dict"
   ]
  },
  {
   "cell_type": "code",
   "execution_count": 207,
   "metadata": {},
   "outputs": [],
   "source": [
    "def get_seed_vector(X_train, seed, seed_class, word_dic):\n",
    "    \n",
    "    doc = seed[seed_class]\n",
    "    SeedVec = numpy.array(100)\n",
    "    num_seed = 0\n",
    "    for word in doc: #for each seed word\n",
    "        if word in word_dic.keys():\n",
    "            num_seed += 1\n",
    "            SeedVec = numpy.add(SeedVec, word_dic[word]) #add seed vectors\n",
    "    if num_seed != 0:     \n",
    "        SeedVec = numpy.divide(SeedVec, num_seed) #divide by #of seed words\n",
    "    \n",
    "    return SeedVec"
   ]
  },
  {
   "cell_type": "code",
   "execution_count": 208,
   "metadata": {},
   "outputs": [
    {
     "data": {
      "text/plain": [
       "{'arts': ['music', 'orchestra', 'album', 'opera', 'ballet'],\n",
       " 'business': ['compani', 'euro', 'economi', 'batteri', 'sale'],\n",
       " 'science': ['space', 'research', 'scientist', 'research', 'scienc'],\n",
       " 'sports': ['yank', 'cup', 'leagu', 'basketb', 'golf'],\n",
       " 'politics': ['republican', 'senat', 'senat', 'democrat', 'elect']}"
      ]
     },
     "execution_count": 208,
     "metadata": {},
     "output_type": "execute_result"
    }
   ],
   "source": [
    "nyt_seed"
   ]
  },
  {
   "cell_type": "code",
   "execution_count": 209,
   "metadata": {},
   "outputs": [],
   "source": [
    "def get_cosin(doc_vector, class_vector):\n",
    "    return numpy.dot(doc_vector,class_vector)/(norm(doc_vector)*norm(class_vector))"
   ]
  },
  {
   "cell_type": "code",
   "execution_count": 210,
   "metadata": {},
   "outputs": [],
   "source": [
    "def get_prediction_word2vec(X_train, seeds_dic):\n",
    "    \n",
    "    print(\"getting the word dict...\")\n",
    "    token_document, word_dic = get_token_wordDic(X_train) #get the word dict\n",
    "    \n",
    "    prediction = []\n",
    "    \n",
    "    All_DocVec = get_all_document_vector(X_train, token_document, word_dic)#get all document vector\n",
    "    \n",
    "    print(\"getting the prediction...\")\n",
    "    \n",
    "    for doc_vector in All_DocVec: #for each document, find the class with greatest similarity\n",
    "        max_class = \"none\"\n",
    "        max_similarity = -1000\n",
    "        for cla in list(seeds_dic.keys()): \n",
    "            similarity = get_cosin(doc_vector, get_seed_vector(X_train, seeds_dic, cla, word_dic))\n",
    "            if similarity >= max_similarity:\n",
    "                max_similarity = similarity\n",
    "                max_class = cla\n",
    "        prediction.append(max_class) #append the prediction \n",
    "    \n",
    "    return prediction\n",
    "        "
   ]
  },
  {
   "cell_type": "code",
   "execution_count": 110,
   "metadata": {},
   "outputs": [
    {
     "name": "stdout",
     "output_type": "stream",
     "text": [
      "tokenizing...\n",
      "getting the vector for each word...\n",
      "getting the vector for each document...\n"
     ]
    }
   ],
   "source": [
    "token_document, word_dic = get_token_wordDic(X_train_nyt) #get the word dict\n",
    "All_DocVec = get_all_document_vector(X_train_nyt, token_document, word_dic)#get all document vector"
   ]
  },
  {
   "cell_type": "code",
   "execution_count": 176,
   "metadata": {},
   "outputs": [
    {
     "name": "stdout",
     "output_type": "stream",
     "text": [
      "getting the word dict...\n",
      "tokenizing...\n",
      "getting the vector for each word...\n",
      "getting the vector for each document...\n",
      "getting the prediction...\n"
     ]
    },
    {
     "data": {
      "text/plain": [
       "11527"
      ]
     },
     "execution_count": 176,
     "metadata": {},
     "output_type": "execute_result"
    }
   ],
   "source": [
    "prediction = get_prediction_word2vec(X_train_nyt, nyt_seed)\n",
    "len(prediction)"
   ]
  },
  {
   "cell_type": "code",
   "execution_count": 211,
   "metadata": {},
   "outputs": [],
   "source": [
    "def get_accuracy_word2vec(df, X_train, seeds_dic):\n",
    "    prediction = get_prediction_word2vec(X_train, seeds_dic)\n",
    "    \n",
    "    print(\"calculating f1 scores...\")\n",
    "    print('F1-score micro: ', f1_score(df.label, prediction, average='micro'))\n",
    "    print('F1-score macro: ', f1_score(df.label, prediction, average='macro'))"
   ]
  },
  {
   "cell_type": "code",
   "execution_count": 212,
   "metadata": {},
   "outputs": [
    {
     "name": "stdout",
     "output_type": "stream",
     "text": [
      "getting the word dict...\n",
      "tokenizing...\n",
      "getting the vector for each word...\n",
      "getting the vector for each document...\n",
      "getting the prediction...\n",
      "calculating f1 scores...\n",
      "F1-score micro:  0.8001214539776178\n",
      "F1-score macro:  0.41701601724716914\n"
     ]
    }
   ],
   "source": [
    "get_accuracy_word2vec(nyt_df, X_train_nyt, nyt_seed)"
   ]
  },
  {
   "cell_type": "code",
   "execution_count": 213,
   "metadata": {},
   "outputs": [
    {
     "name": "stdout",
     "output_type": "stream",
     "text": [
      "getting the word dict...\n",
      "tokenizing...\n",
      "getting the vector for each word...\n",
      "getting the vector for each document...\n",
      "getting the prediction...\n",
      "calculating f1 scores...\n",
      "F1-score micro:  0.40511528561257454\n",
      "F1-score macro:  0.2922659659402966\n"
     ]
    }
   ],
   "source": [
    "get_accuracy_word2vec(news_df, X_train_news, news_seed)"
   ]
  },
  {
   "cell_type": "code",
   "execution_count": 45,
   "metadata": {},
   "outputs": [
    {
     "name": "stdout",
     "output_type": "stream",
     "text": [
      "===============getting the word dict===============\n",
      "===============finished getting the word dict===============\n",
      "===============getting the vector for each document===============\n",
      "===============finished getting the vector for each document===============\n",
      "===============getting the prediction===============\n",
      "===============finished getting the prediction ===============\n",
      "=============== calculating f1 scores ===============\n",
      "F1-score micro:  0.2975622451635291\n",
      "F1-score macro:  0.12470350277214161\n"
     ]
    }
   ],
   "source": [
    "get_accuracy_word2vec(nyt_df_fine, X_train_nyt_fine, nyt_seed_fine)"
   ]
  },
  {
   "cell_type": "code",
   "execution_count": 46,
   "metadata": {},
   "outputs": [
    {
     "name": "stdout",
     "output_type": "stream",
     "text": [
      "===============getting the word dict===============\n",
      "===============finished getting the word dict===============\n",
      "===============getting the vector for each document===============\n",
      "===============finished getting the vector for each document===============\n",
      "===============getting the prediction===============\n",
      "===============finished getting the prediction ===============\n",
      "=============== calculating f1 scores ===============\n",
      "F1-score micro:  0.1626595103784435\n",
      "F1-score macro:  0.09602379526257246\n"
     ]
    }
   ],
   "source": [
    "get_accuracy_word2vec(news_df_fine, X_train_news_fine, news_seed_fine)"
   ]
  },
  {
   "cell_type": "markdown",
   "metadata": {},
   "source": [
    "### Table and Visualization"
   ]
  },
  {
   "cell_type": "code",
   "execution_count": 64,
   "metadata": {},
   "outputs": [
    {
     "data": {
      "image/png": "[encoded data removed]",
      "text/plain": [
       "<Figure size 1280x480 with 1 Axes>"
      ]
     },
     "metadata": {
      "needs_background": "light"
     },
     "output_type": "display_data"
    }
   ],
   "source": [
    "figure(figsize=(16, 6), dpi=80)\n",
    "\n",
    "X = ['NYT_coarse_Micro','NYT_coarse_Macro','NYT_fine_Micro','NYT_fine_Macro', \n",
    "     '20_coarse_Micro','20_coarse_Macro','20_fine_Micro','20_fine_Macro']\n",
    "Yprof = [0.65,0.58,0.56,0.54, 0.49, 0.48, 0.53, 0.52]\n",
    "Zmine = [0.6132558341285677,0.4779442676323146,0.5234666435325757,0.5846423323703109, \n",
    "        0.4075798236486116, 0.477963597229988, 0.475162933347938, 0.5222694644735252]\n",
    "    \n",
    "X_axis = numpy.arange(len(X))\n",
    "  \n",
    "plt.bar(X_axis - 0.2, Yprof, 0.4, label = 'Results_paper', color = (0.2, 0.4, 0.6, 0.6))\n",
    "plt.bar(X_axis + 0.2, Zmine, 0.4, label = 'Results_mine')\n",
    "  \n",
    "plt.xticks(X_axis, X)\n",
    "plt.xlabel(\"Dataset_Labels\")\n",
    "plt.ylabel(\"F1_Score\")\n",
    "plt.title(\"Evaluation Results for TFIDF compared with the paper\")\n",
    "plt.legend()\n",
    "plt.show()"
   ]
  },
  {
   "cell_type": "code",
   "execution_count": 65,
   "metadata": {},
   "outputs": [
    {
     "data": {
      "image/png": "[encoded data removed]",
      "text/plain": [
       "<Figure size 1280x480 with 1 Axes>"
      ]
     },
     "metadata": {
      "needs_background": "light"
     },
     "output_type": "display_data"
    }
   ],
   "source": [
    "figure(figsize=(16, 6), dpi=80)\n",
    "\n",
    "X = ['NYT_coarse_Micro','NYT_coarse_Macro','NYT_fine_Micro','NYT_fine_Macro', \n",
    "     '20_coarse_Micro','20_coarse_Macro','20_fine_Micro','20_fine_Macro']\n",
    "Yprof = [0.92, 0.83, 0.69, 0.47, 0.51, 0.45, 0.33, 0.33]\n",
    "Zmine = [0.824065238136549, 0.36945673089377234, 0.2975622451635291, 0.12470350277214161, \n",
    "        0.4222575168410099, 0.26248156832842173, 0.1626595103784435, 0.09602379526257246]\n",
    "    \n",
    "X_axis = numpy.arange(len(X))\n",
    "  \n",
    "plt.bar(X_axis - 0.2, Yprof, 0.4, label = 'Results_paper',  color = (0.2, 0.4, 0.6, 0.6))\n",
    "plt.bar(X_axis + 0.2, Zmine, 0.4, label = 'Results_mine')\n",
    "  \n",
    "plt.xticks(X_axis, X)\n",
    "plt.xlabel(\"Dataset_Labels\")\n",
    "plt.ylabel(\"F1_Score\")\n",
    "plt.title(\"Evaluation Results for Word2Vec compared with the paper\")\n",
    "plt.legend()\n",
    "plt.show()"
   ]
  },
  {
   "cell_type": "code",
   "execution_count": 60,
   "metadata": {},
   "outputs": [
    {
     "data": {
      "text/html": [
       "<div>\n",
       "<style scoped>\n",
       "    .dataframe tbody tr th:only-of-type {\n",
       "        vertical-align: middle;\n",
       "    }\n",
       "\n",
       "    .dataframe tbody tr th {\n",
       "        vertical-align: top;\n",
       "    }\n",
       "\n",
       "    .dataframe thead th {\n",
       "        text-align: right;\n",
       "    }\n",
       "</style>\n",
       "<table border=\"1\" class=\"dataframe\">\n",
       "  <thead>\n",
       "    <tr style=\"text-align: right;\">\n",
       "      <th></th>\n",
       "      <th>NYT_coarse_Micro</th>\n",
       "      <th>NYT_coarse_Macro</th>\n",
       "      <th>NYT_fine_Micro</th>\n",
       "      <th>NYT_fine_Macro</th>\n",
       "      <th>20_coarse_Micro</th>\n",
       "      <th>20_coarse_Macro</th>\n",
       "      <th>20_fine_Micro</th>\n",
       "      <th>20_fine_Macro</th>\n",
       "    </tr>\n",
       "    <tr>\n",
       "      <th>Model</th>\n",
       "      <th></th>\n",
       "      <th></th>\n",
       "      <th></th>\n",
       "      <th></th>\n",
       "      <th></th>\n",
       "      <th></th>\n",
       "      <th></th>\n",
       "      <th></th>\n",
       "    </tr>\n",
       "  </thead>\n",
       "  <tbody>\n",
       "    <tr>\n",
       "      <th>TFIDF</th>\n",
       "      <td>0.613256</td>\n",
       "      <td>0.477944</td>\n",
       "      <td>0.523467</td>\n",
       "      <td>0.584642</td>\n",
       "      <td>0.407580</td>\n",
       "      <td>0.477964</td>\n",
       "      <td>0.475163</td>\n",
       "      <td>0.522269</td>\n",
       "    </tr>\n",
       "    <tr>\n",
       "      <th>Word2Vec</th>\n",
       "      <td>0.824065</td>\n",
       "      <td>0.369457</td>\n",
       "      <td>0.297562</td>\n",
       "      <td>0.124704</td>\n",
       "      <td>0.422258</td>\n",
       "      <td>0.262482</td>\n",
       "      <td>0.162660</td>\n",
       "      <td>0.096024</td>\n",
       "    </tr>\n",
       "  </tbody>\n",
       "</table>\n",
       "</div>"
      ],
      "text/plain": [
       "          NYT_coarse_Micro  NYT_coarse_Macro  NYT_fine_Micro  NYT_fine_Macro  \\\n",
       "Model                                                                          \n",
       "TFIDF             0.613256          0.477944        0.523467        0.584642   \n",
       "Word2Vec          0.824065          0.369457        0.297562        0.124704   \n",
       "\n",
       "          20_coarse_Micro  20_coarse_Macro  20_fine_Micro  20_fine_Macro  \n",
       "Model                                                                     \n",
       "TFIDF            0.407580         0.477964       0.475163       0.522269  \n",
       "Word2Vec         0.422258         0.262482       0.162660       0.096024  "
      ]
     },
     "execution_count": 60,
     "metadata": {},
     "output_type": "execute_result"
    }
   ],
   "source": [
    "data = [['TFIDF', 0.6132558341285677,0.4779442676323146,0.5234666435325757,0.5846423323703109, \n",
    "        0.4075798236486116, 0.477963597229988, 0.475162933347938, 0.5222694644735252], \n",
    "       ['Word2Vec', 0.824065238136549, 0.36945673089377234, 0.2975622451635291, 0.12470350277214161, \n",
    "        0.4222575168410099, 0.26248156832842173, 0.1626595103784435, 0.09602379526257246]\n",
    "       ]\n",
    "\n",
    "df_result = pd.DataFrame(data, columns = ['Model','NYT_coarse_Micro','NYT_coarse_Macro','NYT_fine_Micro','NYT_fine_Macro', \n",
    "     '20_coarse_Micro','20_coarse_Macro','20_fine_Micro','20_fine_Macro']).set_index('Model')\n",
    "df_result\n"
   ]
  },
  {
   "cell_type": "code",
   "execution_count": 62,
   "metadata": {},
   "outputs": [
    {
     "data": {
      "text/html": [
       "<div>\n",
       "<style scoped>\n",
       "    .dataframe tbody tr th:only-of-type {\n",
       "        vertical-align: middle;\n",
       "    }\n",
       "\n",
       "    .dataframe tbody tr th {\n",
       "        vertical-align: top;\n",
       "    }\n",
       "\n",
       "    .dataframe thead th {\n",
       "        text-align: right;\n",
       "    }\n",
       "</style>\n",
       "<table border=\"1\" class=\"dataframe\">\n",
       "  <thead>\n",
       "    <tr style=\"text-align: right;\">\n",
       "      <th></th>\n",
       "      <th>NYT_coarse_Micro</th>\n",
       "      <th>NYT_coarse_Macro</th>\n",
       "      <th>NYT_fine_Micro</th>\n",
       "      <th>NYT_fine_Macro</th>\n",
       "      <th>20_coarse_Micro</th>\n",
       "      <th>20_coarse_Macro</th>\n",
       "      <th>20_fine_Micro</th>\n",
       "      <th>20_fine_Macro</th>\n",
       "    </tr>\n",
       "    <tr>\n",
       "      <th>Model</th>\n",
       "      <th></th>\n",
       "      <th></th>\n",
       "      <th></th>\n",
       "      <th></th>\n",
       "      <th></th>\n",
       "      <th></th>\n",
       "      <th></th>\n",
       "      <th></th>\n",
       "    </tr>\n",
       "  </thead>\n",
       "  <tbody>\n",
       "    <tr>\n",
       "      <th>TFIDF</th>\n",
       "      <td>0.65</td>\n",
       "      <td>0.58</td>\n",
       "      <td>0.56</td>\n",
       "      <td>0.54</td>\n",
       "      <td>0.49</td>\n",
       "      <td>0.48</td>\n",
       "      <td>0.53</td>\n",
       "      <td>0.52</td>\n",
       "    </tr>\n",
       "    <tr>\n",
       "      <th>Word2Vec</th>\n",
       "      <td>0.92</td>\n",
       "      <td>0.83</td>\n",
       "      <td>0.69</td>\n",
       "      <td>0.47</td>\n",
       "      <td>0.51</td>\n",
       "      <td>0.45</td>\n",
       "      <td>0.33</td>\n",
       "      <td>0.33</td>\n",
       "    </tr>\n",
       "  </tbody>\n",
       "</table>\n",
       "</div>"
      ],
      "text/plain": [
       "          NYT_coarse_Micro  NYT_coarse_Macro  NYT_fine_Micro  NYT_fine_Macro  \\\n",
       "Model                                                                          \n",
       "TFIDF                 0.65              0.58            0.56            0.54   \n",
       "Word2Vec              0.92              0.83            0.69            0.47   \n",
       "\n",
       "          20_coarse_Micro  20_coarse_Macro  20_fine_Micro  20_fine_Macro  \n",
       "Model                                                                     \n",
       "TFIDF                0.49             0.48           0.53           0.52  \n",
       "Word2Vec             0.51             0.45           0.33           0.33  "
      ]
     },
     "execution_count": 62,
     "metadata": {},
     "output_type": "execute_result"
    }
   ],
   "source": [
    "#compared with the result on the paper\n",
    "data_paper = [['TFIDF',0.65,0.58,0.56,0.54, 0.49, 0.48, 0.53, 0.52],\n",
    "       ['Word2Vec', 0.92, 0.83, 0.69, 0.47, 0.51, 0.45, 0.33, 0.33]]\n",
    "\n",
    "df_result_paper = pd.DataFrame(data_paper, columns = ['Model','NYT_coarse_Micro','NYT_coarse_Macro','NYT_fine_Micro','NYT_fine_Macro', \n",
    "     '20_coarse_Micro','20_coarse_Macro','20_fine_Micro','20_fine_Macro']).set_index('Model')\n",
    "df_result_paper\n"
   ]
  },
  {
   "cell_type": "markdown",
   "metadata": {},
   "source": [
    "### thoughts"
   ]
  },
  {
   "cell_type": "markdown",
   "metadata": {},
   "source": [
    "TFIDF: The f1 score is slightly below the ones on paper, but I guess that is to be expected. The overall trend agrees with the paper (as shown in the bar chart)\n",
    "\n",
    "I am guessing the difference might be caused by how I handle the case when the TF-IDF score for all classes is 0. I created a new label called \"no label\" for those documents with TF-IDF equals = 0 for all classes (and we can count that as a wrong prediction), and choose the last class label if we have a tie in the TF-IDF. The authors of the paper might be handling this case differently and thus cause this slight difference. I believe there are quite a few documents withTF-IDF all equal to 0 for all classes."
   ]
  },
  {
   "cell_type": "markdown",
   "metadata": {},
   "source": [
    "\n",
    "Word2Vec: the f1 scores are close to the ones on the paper only in NYT_coarse_Micro and 20_coarse_Micro, and are way lower in other cases (as shown in the bar chart). The two reasonable Micro scores might tell something about this model, but I am not sure what that is. It is also quite confusing why Macro scores are much lower since macro f1 should be straightforward. The f1 scores for all fine datasets are from 0.1 to 0.3, which is a lot lower than what was expected (about 0.3 to 0.6). Not sure why either here.\n",
    "\n",
    "The trend of my f1 score agrees with the paper, at least, as illustrated in the bar chart. It might mean that the model is working properly (with no major issues), but is performing a bit worse than expected. "
   ]
  },
  {
   "cell_type": "code",
   "execution_count": null,
   "metadata": {},
   "outputs": [],
   "source": []
  }
 ],
 "metadata": {
  "kernelspec": {
   "display_name": "Python 3 (ipykernel)",
   "language": "python",
   "name": "python3"
  },
  "language_info": {
   "codemirror_mode": {
    "name": "ipython",
    "version": 3
   },
   "file_extension": ".py",
   "mimetype": "text/x-python",
   "name": "python",
   "nbconvert_exporter": "python",
   "pygments_lexer": "ipython3",
   "version": "3.8.13"
  }
 },
 "nbformat": 4,
 "nbformat_minor": 4
}
