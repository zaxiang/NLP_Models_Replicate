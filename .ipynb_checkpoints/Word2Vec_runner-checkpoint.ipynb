{
 "cells": [
  {
   "cell_type": "code",
   "execution_count": 1,
   "id": "2c0141b5",
   "metadata": {},
   "outputs": [],
   "source": [
    "from Word2Vector import *"
   ]
  },
  {
   "cell_type": "code",
   "execution_count": 2,
   "id": "37cbbcf9",
   "metadata": {},
   "outputs": [],
   "source": [
    "object_token_w2v = Tokenization('./data/20news/coarse', 100, 5, 1, 4)"
   ]
  },
  {
   "cell_type": "code",
   "execution_count": 3,
   "id": "5b0f0f82",
   "metadata": {},
   "outputs": [
    {
     "name": "stdout",
     "output_type": "stream",
     "text": [
      "tokenizing...\n",
      "getting the vector for each word...\n"
     ]
    }
   ],
   "source": [
    "token, word_dic = object_token_w2v.get_token_wordDic()"
   ]
  },
  {
   "cell_type": "code",
   "execution_count": 4,
   "id": "7ce682be",
   "metadata": {},
   "outputs": [],
   "source": [
    "w2v_seeds = object_token_w2v.modify_seeds()"
   ]
  },
  {
   "cell_type": "code",
   "execution_count": 5,
   "id": "ac2e6cfe",
   "metadata": {},
   "outputs": [],
   "source": [
    "object_w2v = Word2vector('./data/20news/coarse', token, word_dic, w2v_seeds)"
   ]
  },
  {
   "cell_type": "code",
   "execution_count": 7,
   "id": "812462db",
   "metadata": {},
   "outputs": [
    {
     "name": "stdout",
     "output_type": "stream",
     "text": [
      "getting the vector for each document...\n",
      "getting the prediction...\n",
      "calculating accuracy\n"
     ]
    },
    {
     "data": {
      "text/plain": [
       "(0.4076345911605236, 0.2902743588340004)"
      ]
     },
     "execution_count": 7,
     "metadata": {},
     "output_type": "execute_result"
    }
   ],
   "source": [
    "object_w2v.get_accuracy()"
   ]
  },
  {
   "cell_type": "markdown",
   "id": "5db7e1c7",
   "metadata": {},
   "source": [
    "### nyt: (0.8374251756745034, 0.4204646418824273)"
   ]
  },
  {
   "cell_type": "markdown",
   "id": "2f719b9e",
   "metadata": {},
   "source": [
    "### 20news: (0.4076345911605236, 0.2902743588340004)"
   ]
  },
  {
   "cell_type": "code",
   "execution_count": null,
   "id": "e82fd15a",
   "metadata": {},
   "outputs": [],
   "source": []
  }
 ],
 "metadata": {
  "kernelspec": {
   "display_name": "Python 3 (ipykernel)",
   "language": "python",
   "name": "python3"
  },
  "language_info": {
   "codemirror_mode": {
    "name": "ipython",
    "version": 3
   },
   "file_extension": ".py",
   "mimetype": "text/x-python",
   "name": "python",
   "nbconvert_exporter": "python",
   "pygments_lexer": "ipython3",
   "version": "3.8.13"
  }
 },
 "nbformat": 4,
 "nbformat_minor": 5
}
