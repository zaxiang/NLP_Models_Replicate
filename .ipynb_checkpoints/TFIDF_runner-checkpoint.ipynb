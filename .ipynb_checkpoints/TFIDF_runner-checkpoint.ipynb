{
 "cells": [
  {
   "cell_type": "code",
   "execution_count": 1,
   "id": "4fa261ac",
   "metadata": {},
   "outputs": [
    {
     "name": "stderr",
     "output_type": "stream",
     "text": [
      "[nltk_data] Downloading package stopwords to\n",
      "[nltk_data]     /Users/xiangzairan/nltk_data...\n",
      "[nltk_data]   Package stopwords is already up-to-date!\n",
      "[nltk_data] Downloading package wordnet to\n",
      "[nltk_data]     /Users/xiangzairan/nltk_data...\n",
      "[nltk_data]   Package wordnet is already up-to-date!\n",
      "[nltk_data] Downloading package omw-1.4 to\n",
      "[nltk_data]     /Users/xiangzairan/nltk_data...\n",
      "[nltk_data]   Package omw-1.4 is already up-to-date!\n"
     ]
    }
   ],
   "source": [
    "from TFIDF import *"
   ]
  },
  {
   "cell_type": "code",
   "execution_count": 2,
   "id": "9be16296",
   "metadata": {},
   "outputs": [],
   "source": [
    "object_token_tfidf = tfidf_Tokenization('./data/nyt/coarse')"
   ]
  },
  {
   "cell_type": "code",
   "execution_count": 3,
   "id": "67fea49c",
   "metadata": {},
   "outputs": [
    {
     "name": "stdout",
     "output_type": "stream",
     "text": [
      "tokenizing...\n"
     ]
    }
   ],
   "source": [
    "tfidf_token = object_token_tfidf.token_X()"
   ]
  },
  {
   "cell_type": "code",
   "execution_count": 4,
   "id": "6b9d0bd8",
   "metadata": {},
   "outputs": [],
   "source": [
    "tfidf_seeds = object_token_tfidf.modify_seeds()"
   ]
  },
  {
   "cell_type": "code",
   "execution_count": 5,
   "id": "d2837674",
   "metadata": {},
   "outputs": [],
   "source": [
    "object_tfidf = tfidf('./data/nyt/coarse', tfidf_token, tfidf_seeds)"
   ]
  },
  {
   "cell_type": "code",
   "execution_count": 6,
   "id": "8e9264d9",
   "metadata": {},
   "outputs": [
    {
     "name": "stdout",
     "output_type": "stream",
     "text": [
      "get_idf\n",
      "getting predictions\n",
      "calculating accuracy\n"
     ]
    },
    {
     "data": {
      "text/plain": [
       "(0.6056215841068795, 0.4616727216619872)"
      ]
     },
     "execution_count": 6,
     "metadata": {},
     "output_type": "execute_result"
    }
   ],
   "source": [
    "object_tfidf.get_accuracy() #(0.6056215841068795, 0.4616727216619872)"
   ]
  },
  {
   "cell_type": "markdown",
   "id": "032f5f83",
   "metadata": {},
   "source": [
    "### nyt: (0.6056215841068795, 0.4616727216619872)"
   ]
  },
  {
   "cell_type": "markdown",
   "id": "6561da38",
   "metadata": {},
   "source": [
    "### 20news:  (0.4335396242948683, 0.4724983248391604)"
   ]
  },
  {
   "cell_type": "code",
   "execution_count": null,
   "id": "0e2cd48b",
   "metadata": {},
   "outputs": [],
   "source": []
  },
  {
   "cell_type": "code",
   "execution_count": 1,
   "id": "d7765182",
   "metadata": {},
   "outputs": [
    {
     "name": "stderr",
     "output_type": "stream",
     "text": [
      "[nltk_data] Downloading package stopwords to\n",
      "[nltk_data]     /Users/xiangzairan/nltk_data...\n",
      "[nltk_data]   Package stopwords is already up-to-date!\n",
      "[nltk_data] Downloading package wordnet to\n",
      "[nltk_data]     /Users/xiangzairan/nltk_data...\n",
      "[nltk_data]   Package wordnet is already up-to-date!\n",
      "[nltk_data] Downloading package omw-1.4 to\n",
      "[nltk_data]     /Users/xiangzairan/nltk_data...\n"
     ]
    }
   ],
   "source": [
    "from runner import *"
   ]
  },
  {
   "cell_type": "code",
   "execution_count": 2,
   "id": "643fa4d2",
   "metadata": {},
   "outputs": [
    {
     "name": "stdout",
     "output_type": "stream",
     "text": [
      "tokenizing...\n",
      "get_idf\n",
      "getting predictions\n",
      "calculating accuracy\n",
      "micro and macro f1 scores for nytare(0.6056215841068795, 0.4616727216619872)\n"
     ]
    }
   ],
   "source": [
    "tfidf_runner_nyt = TFIDF_runner('nyt')\n",
    "#non-punct and stemmer (0.6056215841068795, 0.4616727216619872) / (0.65 0.58)"
   ]
  },
  {
   "cell_type": "code",
   "execution_count": 2,
   "id": "43135147",
   "metadata": {},
   "outputs": [
    {
     "name": "stdout",
     "output_type": "stream",
     "text": [
      "tokenizing...\n",
      "get_idf\n",
      "getting predictions\n",
      "calculating accuracy\n",
      "micro and macro f1 scores for nyt are (0.6056215841068795, 0.4616727216619872)\n"
     ]
    }
   ],
   "source": [
    "tfidf_runner_nyt = TFIDF_runner('nyt')\n",
    "#non-punct and stemmer and no-stopword (0.6056215841068795, 0.4616727216619872)"
   ]
  },
  {
   "cell_type": "code",
   "execution_count": 2,
   "id": "7de3b911",
   "metadata": {},
   "outputs": [
    {
     "name": "stdout",
     "output_type": "stream",
     "text": [
      "tokenizing...\n",
      "get_idf\n",
      "getting predictions\n",
      "calculating accuracy\n",
      "micro and macro f1 scores for nyt are (0.6056215841068795, 0.4616727216619872)\n"
     ]
    }
   ],
   "source": [
    "tfidf_runner_nyt = TFIDF_runner('nyt')\n",
    "#non-punct and stemmer and no-stopword and lemmatizer (0.6056215841068795, 0.4616727216619872)"
   ]
  },
  {
   "cell_type": "code",
   "execution_count": null,
   "id": "d8f3e6cd",
   "metadata": {},
   "outputs": [],
   "source": []
  }
 ],
 "metadata": {
  "kernelspec": {
   "display_name": "Python 3 (ipykernel)",
   "language": "python",
   "name": "python3"
  },
  "language_info": {
   "codemirror_mode": {
    "name": "ipython",
    "version": 3
   },
   "file_extension": ".py",
   "mimetype": "text/x-python",
   "name": "python",
   "nbconvert_exporter": "python",
   "pygments_lexer": "ipython3",
   "version": "3.8.13"
  }
 },
 "nbformat": 4,
 "nbformat_minor": 5
}
