{
 "cells": [
  {
   "cell_type": "code",
   "execution_count": 2,
   "id": "c291db9a",
   "metadata": {},
   "outputs": [],
   "source": [
    "from TFIDF import *"
   ]
  },
  {
   "cell_type": "code",
   "execution_count": 9,
   "id": "d514af7c",
   "metadata": {},
   "outputs": [],
   "source": [
    "object_token_tfidf = Tokenization('./data/20news/coarse')"
   ]
  },
  {
   "cell_type": "code",
   "execution_count": 4,
   "id": "8a0a039a",
   "metadata": {},
   "outputs": [
    {
     "name": "stdout",
     "output_type": "stream",
     "text": [
      "tokenizing...\n"
     ]
    }
   ],
   "source": [
    "tfidf_token = object_token_tfidf.token_X()"
   ]
  },
  {
   "cell_type": "code",
   "execution_count": 5,
   "id": "5dba0f37",
   "metadata": {},
   "outputs": [],
   "source": [
    "tfidf_seeds = object_token_tfidf.modify_seeds()"
   ]
  },
  {
   "cell_type": "code",
   "execution_count": 6,
   "id": "930c8f8c",
   "metadata": {},
   "outputs": [],
   "source": [
    "object_tfidf = tfidf('./data/20news/coarse', tfidf_token, tfidf_seeds)"
   ]
  },
  {
   "cell_type": "code",
   "execution_count": 7,
   "id": "5557d125",
   "metadata": {},
   "outputs": [
    {
     "name": "stdout",
     "output_type": "stream",
     "text": [
      "get_idf\n",
      "getting predictions\n",
      "calculating accuracy\n"
     ]
    },
    {
     "data": {
      "text/plain": [
       "(0.4335396242948683, 0.4724983248391604)"
      ]
     },
     "execution_count": 7,
     "metadata": {},
     "output_type": "execute_result"
    }
   ],
   "source": [
    "object_tfidf.get_accuracy()"
   ]
  },
  {
   "cell_type": "markdown",
   "id": "2c7ad3ce",
   "metadata": {},
   "source": [
    "### nyt: (0.6056215841068795, 0.4616727216619872)"
   ]
  },
  {
   "cell_type": "markdown",
   "id": "0207316e",
   "metadata": {},
   "source": [
    "### 20news:  (0.4335396242948683, 0.4724983248391604)"
   ]
  },
  {
   "cell_type": "code",
   "execution_count": 10,
   "id": "9ecbaeb9",
   "metadata": {},
   "outputs": [
    {
     "data": {
      "text/plain": [
       "'./data/nyt/coarse'"
      ]
     },
     "execution_count": 10,
     "metadata": {},
     "output_type": "execute_result"
    }
   ],
   "source": [
    "dataset = 'nyt'\n",
    "'./data/{}/coarse'.format(dataset)"
   ]
  },
  {
   "cell_type": "code",
   "execution_count": null,
   "id": "e5f461ed",
   "metadata": {},
   "outputs": [],
   "source": []
  }
 ],
 "metadata": {
  "kernelspec": {
   "display_name": "Python 3 (ipykernel)",
   "language": "python",
   "name": "python3"
  },
  "language_info": {
   "codemirror_mode": {
    "name": "ipython",
    "version": 3
   },
   "file_extension": ".py",
   "mimetype": "text/x-python",
   "name": "python",
   "nbconvert_exporter": "python",
   "pygments_lexer": "ipython3",
   "version": "3.8.13"
  }
 },
 "nbformat": 4,
 "nbformat_minor": 5
}
